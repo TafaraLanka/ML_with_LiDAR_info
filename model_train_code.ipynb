{
 "cells": [
  {
   "cell_type": "code",
   "execution_count": 86,
   "metadata": {},
   "outputs": [],
   "source": [
    "import pandas as pd\n",
    "import numpy as np\n",
    "import matplotlib.pyplot as plt\n",
    "from sklearn.utils import shuffle\n",
    "from sklearn.model_selection import train_test_split\n",
    "from keras.models import Sequential\n",
    "from keras.optimizers import Adam\n",
    "from keras.layers import Dense"
   ]
  },
  {
   "cell_type": "code",
   "execution_count": 87,
   "metadata": {},
   "outputs": [
    {
     "data": {
      "text/html": [
       "<div>\n",
       "<style scoped>\n",
       "    .dataframe tbody tr th:only-of-type {\n",
       "        vertical-align: middle;\n",
       "    }\n",
       "\n",
       "    .dataframe tbody tr th {\n",
       "        vertical-align: top;\n",
       "    }\n",
       "\n",
       "    .dataframe thead th {\n",
       "        text-align: right;\n",
       "    }\n",
       "</style>\n",
       "<table border=\"1\" class=\"dataframe\">\n",
       "  <thead>\n",
       "    <tr style=\"text-align: right;\">\n",
       "      <th></th>\n",
       "      <th>d1</th>\n",
       "      <th>d2</th>\n",
       "      <th>d3</th>\n",
       "      <th>d4</th>\n",
       "      <th>d5</th>\n",
       "      <th>d6</th>\n",
       "      <th>d7</th>\n",
       "      <th>d8</th>\n",
       "      <th>d9</th>\n",
       "      <th>speed</th>\n",
       "      <th>angle</th>\n",
       "    </tr>\n",
       "  </thead>\n",
       "  <tbody>\n",
       "    <tr>\n",
       "      <th>0</th>\n",
       "      <td>0.333</td>\n",
       "      <td>0.368</td>\n",
       "      <td>0.470</td>\n",
       "      <td>0.749</td>\n",
       "      <td>2.058</td>\n",
       "      <td>0.771</td>\n",
       "      <td>0.477</td>\n",
       "      <td>0.374</td>\n",
       "      <td>0.342</td>\n",
       "      <td>0.04</td>\n",
       "      <td>0.0</td>\n",
       "    </tr>\n",
       "    <tr>\n",
       "      <th>1</th>\n",
       "      <td>0.333</td>\n",
       "      <td>0.368</td>\n",
       "      <td>0.470</td>\n",
       "      <td>0.749</td>\n",
       "      <td>2.043</td>\n",
       "      <td>0.780</td>\n",
       "      <td>0.476</td>\n",
       "      <td>0.374</td>\n",
       "      <td>0.342</td>\n",
       "      <td>0.04</td>\n",
       "      <td>0.0</td>\n",
       "    </tr>\n",
       "    <tr>\n",
       "      <th>2</th>\n",
       "      <td>0.333</td>\n",
       "      <td>0.367</td>\n",
       "      <td>0.470</td>\n",
       "      <td>0.761</td>\n",
       "      <td>2.042</td>\n",
       "      <td>0.782</td>\n",
       "      <td>0.476</td>\n",
       "      <td>0.374</td>\n",
       "      <td>0.342</td>\n",
       "      <td>0.04</td>\n",
       "      <td>0.0</td>\n",
       "    </tr>\n",
       "    <tr>\n",
       "      <th>3</th>\n",
       "      <td>0.333</td>\n",
       "      <td>0.367</td>\n",
       "      <td>0.469</td>\n",
       "      <td>0.755</td>\n",
       "      <td>2.032</td>\n",
       "      <td>0.779</td>\n",
       "      <td>0.477</td>\n",
       "      <td>0.374</td>\n",
       "      <td>0.342</td>\n",
       "      <td>0.04</td>\n",
       "      <td>0.0</td>\n",
       "    </tr>\n",
       "    <tr>\n",
       "      <th>4</th>\n",
       "      <td>0.332</td>\n",
       "      <td>0.366</td>\n",
       "      <td>0.468</td>\n",
       "      <td>0.754</td>\n",
       "      <td>2.032</td>\n",
       "      <td>0.788</td>\n",
       "      <td>0.479</td>\n",
       "      <td>0.375</td>\n",
       "      <td>0.342</td>\n",
       "      <td>0.04</td>\n",
       "      <td>0.0</td>\n",
       "    </tr>\n",
       "  </tbody>\n",
       "</table>\n",
       "</div>"
      ],
      "text/plain": [
       "      d1     d2     d3     d4     d5     d6     d7     d8     d9  speed  angle\n",
       "0  0.333  0.368  0.470  0.749  2.058  0.771  0.477  0.374  0.342   0.04    0.0\n",
       "1  0.333  0.368  0.470  0.749  2.043  0.780  0.476  0.374  0.342   0.04    0.0\n",
       "2  0.333  0.367  0.470  0.761  2.042  0.782  0.476  0.374  0.342   0.04    0.0\n",
       "3  0.333  0.367  0.469  0.755  2.032  0.779  0.477  0.374  0.342   0.04    0.0\n",
       "4  0.332  0.366  0.468  0.754  2.032  0.788  0.479  0.375  0.342   0.04    0.0"
      ]
     },
     "execution_count": 87,
     "metadata": {},
     "output_type": "execute_result"
    }
   ],
   "source": [
    "columns = ['d1', 'd2', 'd3', 'd4', 'd5', 'd6', 'd7', 'd8', 'd9', 'speed', 'angle']\n",
    "data = pd.read_csv('final_final.csv', names=columns)\n",
    "data.head()"
   ]
  },
  {
   "cell_type": "code",
   "execution_count": 88,
   "metadata": {},
   "outputs": [
    {
     "data": {
      "text/plain": [
       "<BarContainer object of 21 artists>"
      ]
     },
     "execution_count": 88,
     "metadata": {},
     "output_type": "execute_result"
    },
    {
     "data": {
      "image/png": "[encoded data removed]",
      "text/plain": [
       "<Figure size 432x288 with 1 Axes>"
      ]
     },
     "metadata": {
      "needs_background": "light"
     },
     "output_type": "display_data"
    }
   ],
   "source": [
    "num_bins = 21\n",
    "hist, bins = np.histogram(data['angle'], num_bins)\n",
    "center = (bins[:-1] + bins[1:]) * 0.5\n",
    "plt.bar(center, hist, width=0.025)"
   ]
  },
  {
   "cell_type": "code",
   "execution_count": 89,
   "metadata": {},
   "outputs": [
    {
     "name": "stdout",
     "output_type": "stream",
     "text": [
      "total data 22609\n",
      "removed 6712\n",
      "remaining 15897\n"
     ]
    },
    {
     "data": {
      "text/plain": [
       "<BarContainer object of 21 artists>"
      ]
     },
     "execution_count": 89,
     "metadata": {},
     "output_type": "execute_result"
    },
    {
     "data": {
      "image/png": "[encoded data removed]",
      "text/plain": [
       "<Figure size 432x288 with 1 Axes>"
      ]
     },
     "metadata": {
      "needs_background": "light"
     },
     "output_type": "display_data"
    }
   ],
   "source": [
    "print(\"total data\",  len(data))\n",
    "remove_list = []\n",
    "for j in range(num_bins):\n",
    "    list_ = []\n",
    "    for i in range(len(data['angle'])):\n",
    "        if data['angle'][i] >= bins[j] and data['angle'][i] <= bins[j+1]:\n",
    "            list_.append(i)\n",
    "    list_ = shuffle(list_)\n",
    "    list_ = list_[2500:]\n",
    "    remove_list.extend(list_)\n",
    "    \n",
    "print('removed', len(remove_list))\n",
    "data.drop(data.index[remove_list], inplace=True)\n",
    "print('remaining', len(data))\n",
    "hist, _  = np.histogram(data['angle'], (num_bins))\n",
    "plt.bar(center, hist, width=0.025)"
   ]
  },
  {
   "cell_type": "code",
   "execution_count": 90,
   "metadata": {},
   "outputs": [
    {
     "data": {
      "text/html": [
       "<div>\n",
       "<style scoped>\n",
       "    .dataframe tbody tr th:only-of-type {\n",
       "        vertical-align: middle;\n",
       "    }\n",
       "\n",
       "    .dataframe tbody tr th {\n",
       "        vertical-align: top;\n",
       "    }\n",
       "\n",
       "    .dataframe thead th {\n",
       "        text-align: right;\n",
       "    }\n",
       "</style>\n",
       "<table border=\"1\" class=\"dataframe\">\n",
       "  <thead>\n",
       "    <tr style=\"text-align: right;\">\n",
       "      <th></th>\n",
       "      <th>d1</th>\n",
       "      <th>d2</th>\n",
       "      <th>d3</th>\n",
       "      <th>d4</th>\n",
       "      <th>d5</th>\n",
       "      <th>d6</th>\n",
       "      <th>d7</th>\n",
       "      <th>d8</th>\n",
       "      <th>d9</th>\n",
       "    </tr>\n",
       "  </thead>\n",
       "  <tbody>\n",
       "    <tr>\n",
       "      <th>1</th>\n",
       "      <td>0.333</td>\n",
       "      <td>0.368</td>\n",
       "      <td>0.470</td>\n",
       "      <td>0.749</td>\n",
       "      <td>2.043</td>\n",
       "      <td>0.780</td>\n",
       "      <td>0.476</td>\n",
       "      <td>0.374</td>\n",
       "      <td>0.342</td>\n",
       "    </tr>\n",
       "    <tr>\n",
       "      <th>2</th>\n",
       "      <td>0.333</td>\n",
       "      <td>0.367</td>\n",
       "      <td>0.470</td>\n",
       "      <td>0.761</td>\n",
       "      <td>2.042</td>\n",
       "      <td>0.782</td>\n",
       "      <td>0.476</td>\n",
       "      <td>0.374</td>\n",
       "      <td>0.342</td>\n",
       "    </tr>\n",
       "    <tr>\n",
       "      <th>7</th>\n",
       "      <td>0.331</td>\n",
       "      <td>0.365</td>\n",
       "      <td>0.466</td>\n",
       "      <td>0.748</td>\n",
       "      <td>2.007</td>\n",
       "      <td>0.792</td>\n",
       "      <td>0.479</td>\n",
       "      <td>0.375</td>\n",
       "      <td>0.342</td>\n",
       "    </tr>\n",
       "    <tr>\n",
       "      <th>13</th>\n",
       "      <td>0.330</td>\n",
       "      <td>0.362</td>\n",
       "      <td>0.463</td>\n",
       "      <td>0.748</td>\n",
       "      <td>1.979</td>\n",
       "      <td>0.788</td>\n",
       "      <td>0.481</td>\n",
       "      <td>0.376</td>\n",
       "      <td>0.343</td>\n",
       "    </tr>\n",
       "    <tr>\n",
       "      <th>16</th>\n",
       "      <td>0.329</td>\n",
       "      <td>0.361</td>\n",
       "      <td>0.462</td>\n",
       "      <td>0.742</td>\n",
       "      <td>1.966</td>\n",
       "      <td>0.796</td>\n",
       "      <td>0.482</td>\n",
       "      <td>0.376</td>\n",
       "      <td>0.343</td>\n",
       "    </tr>\n",
       "    <tr>\n",
       "      <th>...</th>\n",
       "      <td>...</td>\n",
       "      <td>...</td>\n",
       "      <td>...</td>\n",
       "      <td>...</td>\n",
       "      <td>...</td>\n",
       "      <td>...</td>\n",
       "      <td>...</td>\n",
       "      <td>...</td>\n",
       "      <td>...</td>\n",
       "    </tr>\n",
       "    <tr>\n",
       "      <th>22585</th>\n",
       "      <td>0.342</td>\n",
       "      <td>0.375</td>\n",
       "      <td>0.477</td>\n",
       "      <td>0.783</td>\n",
       "      <td>1.708</td>\n",
       "      <td>0.778</td>\n",
       "      <td>0.476</td>\n",
       "      <td>0.362</td>\n",
       "      <td>0.323</td>\n",
       "    </tr>\n",
       "    <tr>\n",
       "      <th>22590</th>\n",
       "      <td>0.343</td>\n",
       "      <td>0.376</td>\n",
       "      <td>0.483</td>\n",
       "      <td>0.974</td>\n",
       "      <td>1.551</td>\n",
       "      <td>0.778</td>\n",
       "      <td>0.476</td>\n",
       "      <td>0.362</td>\n",
       "      <td>0.324</td>\n",
       "    </tr>\n",
       "    <tr>\n",
       "      <th>22591</th>\n",
       "      <td>0.344</td>\n",
       "      <td>0.376</td>\n",
       "      <td>0.486</td>\n",
       "      <td>1.066</td>\n",
       "      <td>1.514</td>\n",
       "      <td>0.774</td>\n",
       "      <td>0.474</td>\n",
       "      <td>0.362</td>\n",
       "      <td>0.324</td>\n",
       "    </tr>\n",
       "    <tr>\n",
       "      <th>22596</th>\n",
       "      <td>0.345</td>\n",
       "      <td>0.380</td>\n",
       "      <td>0.487</td>\n",
       "      <td>1.272</td>\n",
       "      <td>1.392</td>\n",
       "      <td>0.798</td>\n",
       "      <td>0.481</td>\n",
       "      <td>0.365</td>\n",
       "      <td>0.324</td>\n",
       "    </tr>\n",
       "    <tr>\n",
       "      <th>22597</th>\n",
       "      <td>0.345</td>\n",
       "      <td>0.377</td>\n",
       "      <td>0.479</td>\n",
       "      <td>1.261</td>\n",
       "      <td>1.374</td>\n",
       "      <td>0.834</td>\n",
       "      <td>0.493</td>\n",
       "      <td>0.371</td>\n",
       "      <td>0.326</td>\n",
       "    </tr>\n",
       "  </tbody>\n",
       "</table>\n",
       "<p>15897 rows × 9 columns</p>\n",
       "</div>"
      ],
      "text/plain": [
       "          d1     d2     d3     d4     d5     d6     d7     d8     d9\n",
       "1      0.333  0.368  0.470  0.749  2.043  0.780  0.476  0.374  0.342\n",
       "2      0.333  0.367  0.470  0.761  2.042  0.782  0.476  0.374  0.342\n",
       "7      0.331  0.365  0.466  0.748  2.007  0.792  0.479  0.375  0.342\n",
       "13     0.330  0.362  0.463  0.748  1.979  0.788  0.481  0.376  0.343\n",
       "16     0.329  0.361  0.462  0.742  1.966  0.796  0.482  0.376  0.343\n",
       "...      ...    ...    ...    ...    ...    ...    ...    ...    ...\n",
       "22585  0.342  0.375  0.477  0.783  1.708  0.778  0.476  0.362  0.323\n",
       "22590  0.343  0.376  0.483  0.974  1.551  0.778  0.476  0.362  0.324\n",
       "22591  0.344  0.376  0.486  1.066  1.514  0.774  0.474  0.362  0.324\n",
       "22596  0.345  0.380  0.487  1.272  1.392  0.798  0.481  0.365  0.324\n",
       "22597  0.345  0.377  0.479  1.261  1.374  0.834  0.493  0.371  0.326\n",
       "\n",
       "[15897 rows x 9 columns]"
      ]
     },
     "execution_count": 90,
     "metadata": {},
     "output_type": "execute_result"
    }
   ],
   "source": [
    "laser = data[['d1', 'd2', 'd3', 'd4', 'd5', 'd6', 'd7', 'd8', 'd9']]\n",
    "steering = data['angle']\n",
    "laser"
   ]
  },
  {
   "cell_type": "code",
   "execution_count": 91,
   "metadata": {},
   "outputs": [],
   "source": [
    "X_train, X_valid, y_train, y_valid = train_test_split(laser, steering, test_size=0.25, random_state=4)"
   ]
  },
  {
   "cell_type": "code",
   "execution_count": 92,
   "metadata": {},
   "outputs": [
    {
     "data": {
      "text/plain": [
       "Text(0.5, 1.0, 'Validation set')"
      ]
     },
     "execution_count": 92,
     "metadata": {},
     "output_type": "execute_result"
    },
    {
     "data": {
      "image/png": "[encoded data removed]",
      "text/plain": [
       "<Figure size 864x288 with 2 Axes>"
      ]
     },
     "metadata": {
      "needs_background": "light"
     },
     "output_type": "display_data"
    }
   ],
   "source": [
    "fig, axes = plt.subplots(1, 2, figsize=(12, 4))\n",
    "axes[0].hist(y_train, bins=num_bins, width=0.025, color='blue')\n",
    "axes[0].set_title('Training set')\n",
    "axes[1].hist(y_valid, bins=num_bins, width=0.025, color='red')\n",
    "axes[1].set_title('Validation set')"
   ]
  },
  {
   "cell_type": "code",
   "execution_count": 93,
   "metadata": {},
   "outputs": [],
   "source": [
    "def my_model():\n",
    "    model = Sequential()\n",
    "    model.add(Dense(units = 9, activation = 'elu', input_shape=(9,)))\n",
    "#     model.add(Dense(units = 5, activation = 'elu'))\n",
    "#     model.add(Dense(units = 2, activation = 'relu'))\n",
    "    model.add(Dense(units=1))\n",
    "    optimizer = Adam(lr=1e-3)\n",
    "    model.compile(loss='mse', optimizer=optimizer)\n",
    "    return model"
   ]
  },
  {
   "cell_type": "code",
   "execution_count": 94,
   "metadata": {},
   "outputs": [
    {
     "name": "stdout",
     "output_type": "stream",
     "text": [
      "Model: \"sequential_8\"\n",
      "_________________________________________________________________\n",
      "Layer (type)                 Output Shape              Param #   \n",
      "=================================================================\n",
      "dense_23 (Dense)             (None, 9)                 90        \n",
      "_________________________________________________________________\n",
      "dense_24 (Dense)             (None, 1)                 10        \n",
      "=================================================================\n",
      "Total params: 100\n",
      "Trainable params: 100\n",
      "Non-trainable params: 0\n",
      "_________________________________________________________________\n",
      "None\n"
     ]
    }
   ],
   "source": [
    "model = my_model()\n",
    "print(model.summary())"
   ]
  },
  {
   "cell_type": "code",
   "execution_count": 95,
   "metadata": {},
   "outputs": [
    {
     "name": "stdout",
     "output_type": "stream",
     "text": [
      "Epoch 1/100\n",
      "120/120 [==============================] - 0s 1ms/step - loss: 0.1659 - val_loss: 0.0427\n",
      "Epoch 2/100\n",
      "120/120 [==============================] - 0s 813us/step - loss: 0.0355 - val_loss: 0.0257\n",
      "Epoch 3/100\n",
      "120/120 [==============================] - 0s 803us/step - loss: 0.0246 - val_loss: 0.0211\n",
      "Epoch 4/100\n",
      "120/120 [==============================] - 0s 950us/step - loss: 0.0205 - val_loss: 0.0190\n",
      "Epoch 5/100\n",
      "120/120 [==============================] - 0s 806us/step - loss: 0.0187 - val_loss: 0.0181\n",
      "Epoch 6/100\n",
      "120/120 [==============================] - 0s 800us/step - loss: 0.0178 - val_loss: 0.0177\n",
      "Epoch 7/100\n",
      "120/120 [==============================] - 0s 813us/step - loss: 0.0175 - val_loss: 0.0174\n",
      "Epoch 8/100\n",
      "120/120 [==============================] - 0s 811us/step - loss: 0.0173 - val_loss: 0.0173\n",
      "Epoch 9/100\n",
      "120/120 [==============================] - 0s 796us/step - loss: 0.0176 - val_loss: 0.0172\n",
      "Epoch 10/100\n",
      "120/120 [==============================] - 0s 812us/step - loss: 0.0173 - val_loss: 0.0171\n",
      "Epoch 11/100\n",
      "120/120 [==============================] - 0s 813us/step - loss: 0.0170 - val_loss: 0.0170\n",
      "Epoch 12/100\n",
      "120/120 [==============================] - 0s 822us/step - loss: 0.0174 - val_loss: 0.0169\n",
      "Epoch 13/100\n",
      "120/120 [==============================] - 0s 784us/step - loss: 0.0167 - val_loss: 0.0168\n",
      "Epoch 14/100\n",
      "120/120 [==============================] - 0s 818us/step - loss: 0.0167 - val_loss: 0.0170\n",
      "Epoch 15/100\n",
      "120/120 [==============================] - 0s 795us/step - loss: 0.0168 - val_loss: 0.0167\n",
      "Epoch 16/100\n",
      "120/120 [==============================] - 0s 806us/step - loss: 0.0167 - val_loss: 0.0166\n",
      "Epoch 17/100\n",
      "120/120 [==============================] - 0s 788us/step - loss: 0.0168 - val_loss: 0.0165\n",
      "Epoch 18/100\n",
      "120/120 [==============================] - 0s 792us/step - loss: 0.0163 - val_loss: 0.0164\n",
      "Epoch 19/100\n",
      "120/120 [==============================] - 0s 797us/step - loss: 0.0168 - val_loss: 0.0165\n",
      "Epoch 20/100\n",
      "120/120 [==============================] - 0s 805us/step - loss: 0.0166 - val_loss: 0.0164\n",
      "Epoch 21/100\n",
      "120/120 [==============================] - 0s 837us/step - loss: 0.0168 - val_loss: 0.0163\n",
      "Epoch 22/100\n",
      "120/120 [==============================] - 0s 847us/step - loss: 0.0166 - val_loss: 0.0163\n",
      "Epoch 23/100\n",
      "120/120 [==============================] - 0s 787us/step - loss: 0.0162 - val_loss: 0.0162\n",
      "Epoch 24/100\n",
      "120/120 [==============================] - 0s 795us/step - loss: 0.0165 - val_loss: 0.0162\n",
      "Epoch 25/100\n",
      "120/120 [==============================] - 0s 787us/step - loss: 0.0164 - val_loss: 0.0161\n",
      "Epoch 26/100\n",
      "120/120 [==============================] - 0s 794us/step - loss: 0.0160 - val_loss: 0.0164\n",
      "Epoch 27/100\n",
      "120/120 [==============================] - 0s 813us/step - loss: 0.0160 - val_loss: 0.0162\n",
      "Epoch 28/100\n",
      "120/120 [==============================] - 0s 798us/step - loss: 0.0161 - val_loss: 0.0160\n",
      "Epoch 29/100\n",
      "120/120 [==============================] - 0s 793us/step - loss: 0.0162 - val_loss: 0.0162\n",
      "Epoch 30/100\n",
      "120/120 [==============================] - 0s 798us/step - loss: 0.0158 - val_loss: 0.0160\n",
      "Epoch 31/100\n",
      "120/120 [==============================] - 0s 801us/step - loss: 0.0161 - val_loss: 0.0159\n",
      "Epoch 32/100\n",
      "120/120 [==============================] - 0s 782us/step - loss: 0.0160 - val_loss: 0.0159\n",
      "Epoch 33/100\n",
      "120/120 [==============================] - 0s 804us/step - loss: 0.0162 - val_loss: 0.0160\n",
      "Epoch 34/100\n",
      "120/120 [==============================] - 0s 805us/step - loss: 0.0163 - val_loss: 0.0158\n",
      "Epoch 35/100\n",
      "120/120 [==============================] - 0s 803us/step - loss: 0.0160 - val_loss: 0.0162\n",
      "Epoch 36/100\n",
      "120/120 [==============================] - 0s 868us/step - loss: 0.0163 - val_loss: 0.0159\n",
      "Epoch 37/100\n",
      "120/120 [==============================] - 0s 846us/step - loss: 0.0160 - val_loss: 0.0159\n",
      "Epoch 38/100\n",
      "120/120 [==============================] - 0s 786us/step - loss: 0.0164 - val_loss: 0.0158\n",
      "Epoch 39/100\n",
      "120/120 [==============================] - 0s 811us/step - loss: 0.0158 - val_loss: 0.0158\n",
      "Epoch 40/100\n",
      "120/120 [==============================] - 0s 789us/step - loss: 0.0158 - val_loss: 0.0157\n",
      "Epoch 41/100\n",
      "120/120 [==============================] - 0s 820us/step - loss: 0.0156 - val_loss: 0.0157\n",
      "Epoch 42/100\n",
      "120/120 [==============================] - 0s 833us/step - loss: 0.0158 - val_loss: 0.0156\n",
      "Epoch 43/100\n",
      "120/120 [==============================] - 0s 870us/step - loss: 0.0158 - val_loss: 0.0157\n",
      "Epoch 44/100\n",
      "120/120 [==============================] - 0s 827us/step - loss: 0.0156 - val_loss: 0.0156\n",
      "Epoch 45/100\n",
      "120/120 [==============================] - 0s 806us/step - loss: 0.0159 - val_loss: 0.0155\n",
      "Epoch 46/100\n",
      "120/120 [==============================] - 0s 780us/step - loss: 0.0158 - val_loss: 0.0156\n",
      "Epoch 47/100\n",
      "120/120 [==============================] - 0s 825us/step - loss: 0.0156 - val_loss: 0.0155\n",
      "Epoch 48/100\n",
      "120/120 [==============================] - 0s 805us/step - loss: 0.0156 - val_loss: 0.0155\n",
      "Epoch 49/100\n",
      "120/120 [==============================] - 0s 797us/step - loss: 0.0158 - val_loss: 0.0154\n",
      "Epoch 50/100\n",
      "120/120 [==============================] - 0s 802us/step - loss: 0.0157 - val_loss: 0.0155\n",
      "Epoch 51/100\n",
      "120/120 [==============================] - 0s 802us/step - loss: 0.0156 - val_loss: 0.0154\n",
      "Epoch 52/100\n",
      "120/120 [==============================] - 0s 826us/step - loss: 0.0159 - val_loss: 0.0153\n",
      "Epoch 53/100\n",
      "120/120 [==============================] - 0s 888us/step - loss: 0.0154 - val_loss: 0.0154\n",
      "Epoch 54/100\n",
      "120/120 [==============================] - 0s 853us/step - loss: 0.0156 - val_loss: 0.0153\n",
      "Epoch 55/100\n",
      "120/120 [==============================] - 0s 897us/step - loss: 0.0154 - val_loss: 0.0152\n",
      "Epoch 56/100\n",
      "120/120 [==============================] - 0s 797us/step - loss: 0.0154 - val_loss: 0.0153\n",
      "Epoch 57/100\n",
      "120/120 [==============================] - 0s 798us/step - loss: 0.0153 - val_loss: 0.0152\n",
      "Epoch 58/100\n",
      "120/120 [==============================] - 0s 806us/step - loss: 0.0152 - val_loss: 0.0155\n",
      "Epoch 59/100\n",
      "120/120 [==============================] - 0s 847us/step - loss: 0.0154 - val_loss: 0.0151\n",
      "Epoch 60/100\n",
      "120/120 [==============================] - 0s 885us/step - loss: 0.0152 - val_loss: 0.0154\n",
      "Epoch 61/100\n",
      "120/120 [==============================] - 0s 850us/step - loss: 0.0153 - val_loss: 0.0152\n",
      "Epoch 62/100\n",
      "120/120 [==============================] - 0s 821us/step - loss: 0.0153 - val_loss: 0.0151\n",
      "Epoch 63/100\n",
      "120/120 [==============================] - 0s 821us/step - loss: 0.0155 - val_loss: 0.0151\n",
      "Epoch 64/100\n",
      "120/120 [==============================] - 0s 816us/step - loss: 0.0152 - val_loss: 0.0150\n",
      "Epoch 65/100\n",
      "120/120 [==============================] - 0s 819us/step - loss: 0.0153 - val_loss: 0.0150\n",
      "Epoch 66/100\n",
      "120/120 [==============================] - 0s 821us/step - loss: 0.0151 - val_loss: 0.0151\n",
      "Epoch 67/100\n",
      "120/120 [==============================] - 0s 813us/step - loss: 0.0148 - val_loss: 0.0149\n",
      "Epoch 68/100\n",
      "120/120 [==============================] - 0s 806us/step - loss: 0.0153 - val_loss: 0.0150\n",
      "Epoch 69/100\n",
      "120/120 [==============================] - 0s 866us/step - loss: 0.0148 - val_loss: 0.0148\n",
      "Epoch 70/100\n",
      "120/120 [==============================] - 0s 818us/step - loss: 0.0153 - val_loss: 0.0148\n",
      "Epoch 71/100\n",
      "120/120 [==============================] - 0s 826us/step - loss: 0.0146 - val_loss: 0.0150\n",
      "Epoch 72/100\n",
      "120/120 [==============================] - 0s 823us/step - loss: 0.0148 - val_loss: 0.0149\n",
      "Epoch 73/100\n",
      "120/120 [==============================] - 0s 839us/step - loss: 0.0150 - val_loss: 0.0148\n",
      "Epoch 74/100\n",
      "120/120 [==============================] - 0s 817us/step - loss: 0.0151 - val_loss: 0.0147\n",
      "Epoch 75/100\n",
      "120/120 [==============================] - 0s 847us/step - loss: 0.0150 - val_loss: 0.0147\n",
      "Epoch 76/100\n",
      "120/120 [==============================] - 0s 855us/step - loss: 0.0147 - val_loss: 0.0146\n",
      "Epoch 77/100\n",
      "120/120 [==============================] - 0s 879us/step - loss: 0.0148 - val_loss: 0.0147\n",
      "Epoch 78/100\n",
      "120/120 [==============================] - 0s 833us/step - loss: 0.0146 - val_loss: 0.0147\n",
      "Epoch 79/100\n",
      "120/120 [==============================] - 0s 819us/step - loss: 0.0152 - val_loss: 0.0151\n"
     ]
    },
    {
     "name": "stdout",
     "output_type": "stream",
     "text": [
      "Epoch 80/100\n",
      "120/120 [==============================] - 0s 856us/step - loss: 0.0151 - val_loss: 0.0146\n",
      "Epoch 81/100\n",
      "120/120 [==============================] - 0s 850us/step - loss: 0.0147 - val_loss: 0.0148\n",
      "Epoch 82/100\n",
      "120/120 [==============================] - 0s 852us/step - loss: 0.0147 - val_loss: 0.0146\n",
      "Epoch 83/100\n",
      "120/120 [==============================] - 0s 830us/step - loss: 0.0146 - val_loss: 0.0146\n",
      "Epoch 84/100\n",
      "120/120 [==============================] - 0s 825us/step - loss: 0.0148 - val_loss: 0.0145\n",
      "Epoch 85/100\n",
      "120/120 [==============================] - 0s 840us/step - loss: 0.0148 - val_loss: 0.0145\n",
      "Epoch 86/100\n",
      "120/120 [==============================] - 0s 820us/step - loss: 0.0146 - val_loss: 0.0145\n",
      "Epoch 87/100\n",
      "120/120 [==============================] - 0s 830us/step - loss: 0.0146 - val_loss: 0.0145\n",
      "Epoch 88/100\n",
      "120/120 [==============================] - 0s 821us/step - loss: 0.0147 - val_loss: 0.0145\n",
      "Epoch 89/100\n",
      "120/120 [==============================] - 0s 828us/step - loss: 0.0149 - val_loss: 0.0145\n",
      "Epoch 90/100\n",
      "120/120 [==============================] - 0s 853us/step - loss: 0.0145 - val_loss: 0.0145\n",
      "Epoch 91/100\n",
      "120/120 [==============================] - 0s 846us/step - loss: 0.0151 - val_loss: 0.0144\n",
      "Epoch 92/100\n",
      "120/120 [==============================] - 0s 836us/step - loss: 0.0146 - val_loss: 0.0148\n",
      "Epoch 93/100\n",
      "120/120 [==============================] - 0s 833us/step - loss: 0.0146 - val_loss: 0.0144\n",
      "Epoch 94/100\n",
      "120/120 [==============================] - 0s 830us/step - loss: 0.0145 - val_loss: 0.0145\n",
      "Epoch 95/100\n",
      "120/120 [==============================] - 0s 888us/step - loss: 0.0148 - val_loss: 0.0144\n",
      "Epoch 96/100\n",
      "120/120 [==============================] - 0s 838us/step - loss: 0.0146 - val_loss: 0.0146\n",
      "Epoch 97/100\n",
      "120/120 [==============================] - 0s 813us/step - loss: 0.0148 - val_loss: 0.0145\n",
      "Epoch 98/100\n",
      "120/120 [==============================] - 0s 823us/step - loss: 0.0147 - val_loss: 0.0144\n",
      "Epoch 99/100\n",
      "120/120 [==============================] - 0s 863us/step - loss: 0.0144 - val_loss: 0.0144\n",
      "Epoch 100/100\n",
      "120/120 [==============================] - 0s 857us/step - loss: 0.0147 - val_loss: 0.0145\n"
     ]
    }
   ],
   "source": [
    "history = model.fit(X_train, y_train, epochs=100, validation_data=(X_valid, y_valid), batch_size=100, verbose=1, shuffle=1)"
   ]
  },
  {
   "cell_type": "code",
   "execution_count": 96,
   "metadata": {},
   "outputs": [
    {
     "data": {
      "text/plain": [
       "Text(0.5, 0, 'Epoch')"
      ]
     },
     "execution_count": 96,
     "metadata": {},
     "output_type": "execute_result"
    },
    {
     "data": {
      "image/png": "[encoded data removed]",
      "text/plain": [
       "<Figure size 432x288 with 1 Axes>"
      ]
     },
     "metadata": {
      "needs_background": "light"
     },
     "output_type": "display_data"
    }
   ],
   "source": [
    "plt.plot(history.history['loss'])\n",
    "plt.plot(history.history['val_loss'])\n",
    "plt.legend(['training', 'Validation'])\n",
    "plt.title('Loss')\n",
    "plt.xlabel('Epoch')"
   ]
  },
  {
   "cell_type": "code",
   "execution_count": 97,
   "metadata": {},
   "outputs": [],
   "source": [
    "model.save('model.h5')"
   ]
  },
  {
   "cell_type": "code",
   "execution_count": null,
   "metadata": {},
   "outputs": [],
   "source": []
  }
 ],
 "metadata": {
  "kernelspec": {
   "display_name": "Python 3",
   "language": "python",
   "name": "python3"
  },
  "language_info": {
   "codemirror_mode": {
    "name": "ipython",
    "version": 3
   },
   "file_extension": ".py",
   "mimetype": "text/x-python",
   "name": "python",
   "nbconvert_exporter": "python",
   "pygments_lexer": "ipython3",
   "version": "3.8.5"
  }
 },
 "nbformat": 4,
 "nbformat_minor": 4
}
